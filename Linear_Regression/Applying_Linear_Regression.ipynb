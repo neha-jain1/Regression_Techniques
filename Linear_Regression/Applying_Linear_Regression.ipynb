{
 "cells": [
  {
   "cell_type": "code",
   "execution_count": 1,
   "metadata": {},
   "outputs": [
    {
     "name": "stderr",
     "output_type": "stream",
     "text": [
      "/home/neha/anaconda3/lib/python3.7/importlib/_bootstrap.py:219: RuntimeWarning: numpy.ufunc size changed, may indicate binary incompatibility. Expected 192 from C header, got 216 from PyObject\n",
      "  return f(*args, **kwds)\n"
     ]
    }
   ],
   "source": [
    "import pandas as pd\n",
    "from sklearn.model_selection import train_test_split"
   ]
  },
  {
   "cell_type": "code",
   "execution_count": 6,
   "metadata": {},
   "outputs": [
    {
     "name": "stderr",
     "output_type": "stream",
     "text": [
      "/home/neha/anaconda3/lib/python3.7/importlib/_bootstrap.py:219: RuntimeWarning: numpy.ufunc size changed, may indicate binary incompatibility. Expected 192 from C header, got 216 from PyObject\n",
      "  return f(*args, **kwds)\n"
     ]
    }
   ],
   "source": [
    "import seaborn as sns\n",
    "import matplotlib.pyplot as plt"
   ]
  },
  {
   "cell_type": "code",
   "execution_count": 2,
   "metadata": {},
   "outputs": [],
   "source": [
    "from sklearn.linear_model import LinearRegression"
   ]
  },
  {
   "cell_type": "code",
   "execution_count": 3,
   "metadata": {},
   "outputs": [],
   "source": [
    "df = pd.read_csv('Dataset/cleaned_train_file.csv')"
   ]
  },
  {
   "cell_type": "code",
   "execution_count": 4,
   "metadata": {},
   "outputs": [
    {
     "data": {
      "text/html": [
       "<div>\n",
       "<style scoped>\n",
       "    .dataframe tbody tr th:only-of-type {\n",
       "        vertical-align: middle;\n",
       "    }\n",
       "\n",
       "    .dataframe tbody tr th {\n",
       "        vertical-align: top;\n",
       "    }\n",
       "\n",
       "    .dataframe thead th {\n",
       "        text-align: right;\n",
       "    }\n",
       "</style>\n",
       "<table border=\"1\" class=\"dataframe\">\n",
       "  <thead>\n",
       "    <tr style=\"text-align: right;\">\n",
       "      <th></th>\n",
       "      <th>Employee_ID</th>\n",
       "      <th>Gender</th>\n",
       "      <th>Education_Level</th>\n",
       "      <th>Relationship_Status</th>\n",
       "      <th>Hometown</th>\n",
       "      <th>Unit</th>\n",
       "      <th>Decision_skill_possess</th>\n",
       "      <th>Time_since_promotion</th>\n",
       "      <th>growth_rate</th>\n",
       "      <th>Travel_Rate</th>\n",
       "      <th>Post_Level</th>\n",
       "      <th>Compensation_and_Benefits</th>\n",
       "      <th>VAR1</th>\n",
       "      <th>VAR2</th>\n",
       "      <th>VAR3</th>\n",
       "      <th>VAR5</th>\n",
       "      <th>VAR6</th>\n",
       "      <th>VAR7</th>\n",
       "      <th>Attrition_rate</th>\n",
       "    </tr>\n",
       "  </thead>\n",
       "  <tbody>\n",
       "    <tr>\n",
       "      <th>0</th>\n",
       "      <td>EID_23371</td>\n",
       "      <td>0</td>\n",
       "      <td>4</td>\n",
       "      <td>0</td>\n",
       "      <td>1</td>\n",
       "      <td>2</td>\n",
       "      <td>2</td>\n",
       "      <td>4</td>\n",
       "      <td>33</td>\n",
       "      <td>1</td>\n",
       "      <td>1</td>\n",
       "      <td>2</td>\n",
       "      <td>4</td>\n",
       "      <td>23371</td>\n",
       "      <td>1.8688</td>\n",
       "      <td>4</td>\n",
       "      <td>5</td>\n",
       "      <td>3</td>\n",
       "      <td>0.1841</td>\n",
       "    </tr>\n",
       "    <tr>\n",
       "      <th>1</th>\n",
       "      <td>EID_18000</td>\n",
       "      <td>1</td>\n",
       "      <td>3</td>\n",
       "      <td>1</td>\n",
       "      <td>3</td>\n",
       "      <td>3</td>\n",
       "      <td>0</td>\n",
       "      <td>4</td>\n",
       "      <td>36</td>\n",
       "      <td>0</td>\n",
       "      <td>3</td>\n",
       "      <td>2</td>\n",
       "      <td>3</td>\n",
       "      <td>18000</td>\n",
       "      <td>-0.4537</td>\n",
       "      <td>3</td>\n",
       "      <td>5</td>\n",
       "      <td>3</td>\n",
       "      <td>0.0670</td>\n",
       "    </tr>\n",
       "    <tr>\n",
       "      <th>2</th>\n",
       "      <td>EID_3891</td>\n",
       "      <td>0</td>\n",
       "      <td>3</td>\n",
       "      <td>0</td>\n",
       "      <td>0</td>\n",
       "      <td>8</td>\n",
       "      <td>2</td>\n",
       "      <td>3</td>\n",
       "      <td>51</td>\n",
       "      <td>0</td>\n",
       "      <td>2</td>\n",
       "      <td>2</td>\n",
       "      <td>4</td>\n",
       "      <td>3891</td>\n",
       "      <td>-0.4537</td>\n",
       "      <td>3</td>\n",
       "      <td>8</td>\n",
       "      <td>3</td>\n",
       "      <td>0.0851</td>\n",
       "    </tr>\n",
       "    <tr>\n",
       "      <th>3</th>\n",
       "      <td>EID_17492</td>\n",
       "      <td>0</td>\n",
       "      <td>3</td>\n",
       "      <td>1</td>\n",
       "      <td>2</td>\n",
       "      <td>1</td>\n",
       "      <td>1</td>\n",
       "      <td>3</td>\n",
       "      <td>56</td>\n",
       "      <td>1</td>\n",
       "      <td>3</td>\n",
       "      <td>2</td>\n",
       "      <td>3</td>\n",
       "      <td>17492</td>\n",
       "      <td>-0.4537</td>\n",
       "      <td>3</td>\n",
       "      <td>7</td>\n",
       "      <td>3</td>\n",
       "      <td>0.0668</td>\n",
       "    </tr>\n",
       "    <tr>\n",
       "      <th>4</th>\n",
       "      <td>EID_22534</td>\n",
       "      <td>0</td>\n",
       "      <td>1</td>\n",
       "      <td>0</td>\n",
       "      <td>3</td>\n",
       "      <td>3</td>\n",
       "      <td>2</td>\n",
       "      <td>4</td>\n",
       "      <td>62</td>\n",
       "      <td>1</td>\n",
       "      <td>3</td>\n",
       "      <td>3</td>\n",
       "      <td>1</td>\n",
       "      <td>22534</td>\n",
       "      <td>-0.4537</td>\n",
       "      <td>2</td>\n",
       "      <td>8</td>\n",
       "      <td>2</td>\n",
       "      <td>0.1827</td>\n",
       "    </tr>\n",
       "  </tbody>\n",
       "</table>\n",
       "</div>"
      ],
      "text/plain": [
       "  Employee_ID  Gender  Education_Level  Relationship_Status  Hometown  Unit  \\\n",
       "0   EID_23371       0                4                    0         1     2   \n",
       "1   EID_18000       1                3                    1         3     3   \n",
       "2    EID_3891       0                3                    0         0     8   \n",
       "3   EID_17492       0                3                    1         2     1   \n",
       "4   EID_22534       0                1                    0         3     3   \n",
       "\n",
       "   Decision_skill_possess  Time_since_promotion  growth_rate  Travel_Rate  \\\n",
       "0                       2                     4           33            1   \n",
       "1                       0                     4           36            0   \n",
       "2                       2                     3           51            0   \n",
       "3                       1                     3           56            1   \n",
       "4                       2                     4           62            1   \n",
       "\n",
       "   Post_Level  Compensation_and_Benefits  VAR1   VAR2    VAR3  VAR5  VAR6  \\\n",
       "0           1                          2     4  23371  1.8688     4     5   \n",
       "1           3                          2     3  18000 -0.4537     3     5   \n",
       "2           2                          2     4   3891 -0.4537     3     8   \n",
       "3           3                          2     3  17492 -0.4537     3     7   \n",
       "4           3                          3     1  22534 -0.4537     2     8   \n",
       "\n",
       "   VAR7  Attrition_rate  \n",
       "0     3          0.1841  \n",
       "1     3          0.0670  \n",
       "2     3          0.0851  \n",
       "3     3          0.0668  \n",
       "4     2          0.1827  "
      ]
     },
     "execution_count": 4,
     "metadata": {},
     "output_type": "execute_result"
    }
   ],
   "source": [
    "df.head()"
   ]
  },
  {
   "cell_type": "code",
   "execution_count": 5,
   "metadata": {},
   "outputs": [
    {
     "data": {
      "text/plain": [
       "(7000, 19)"
      ]
     },
     "execution_count": 5,
     "metadata": {},
     "output_type": "execute_result"
    }
   ],
   "source": [
    "df.shape"
   ]
  },
  {
   "cell_type": "code",
   "execution_count": 8,
   "metadata": {},
   "outputs": [
    {
     "data": {
      "text/plain": [
       "<matplotlib.axes._subplots.AxesSubplot at 0x7fbadd268a10>"
      ]
     },
     "execution_count": 8,
     "metadata": {},
     "output_type": "execute_result"
    },
    {
     "data": {
      "image/png": "[encoded data removed]",
      "text/plain": [
       "<Figure size 432x288 with 1 Axes>"
      ]
     },
     "metadata": {
      "needs_background": "light"
     },
     "output_type": "display_data"
    }
   ],
   "source": [
    "sns.distplot(df['Travel_Rate'])"
   ]
  },
  {
   "cell_type": "code",
   "execution_count": 11,
   "metadata": {},
   "outputs": [],
   "source": [
    "y = df['Attrition_rate']\n",
    "data = df.drop('Attrition_rate',axis=1)"
   ]
  },
  {
   "cell_type": "code",
   "execution_count": 12,
   "metadata": {},
   "outputs": [
    {
     "data": {
      "text/html": [
       "<div>\n",
       "<style scoped>\n",
       "    .dataframe tbody tr th:only-of-type {\n",
       "        vertical-align: middle;\n",
       "    }\n",
       "\n",
       "    .dataframe tbody tr th {\n",
       "        vertical-align: top;\n",
       "    }\n",
       "\n",
       "    .dataframe thead th {\n",
       "        text-align: right;\n",
       "    }\n",
       "</style>\n",
       "<table border=\"1\" class=\"dataframe\">\n",
       "  <thead>\n",
       "    <tr style=\"text-align: right;\">\n",
       "      <th></th>\n",
       "      <th>Employee_ID</th>\n",
       "      <th>Gender</th>\n",
       "      <th>Education_Level</th>\n",
       "      <th>Relationship_Status</th>\n",
       "      <th>Hometown</th>\n",
       "      <th>Unit</th>\n",
       "      <th>Decision_skill_possess</th>\n",
       "      <th>Time_since_promotion</th>\n",
       "      <th>growth_rate</th>\n",
       "      <th>Travel_Rate</th>\n",
       "      <th>Post_Level</th>\n",
       "      <th>Compensation_and_Benefits</th>\n",
       "      <th>VAR1</th>\n",
       "      <th>VAR2</th>\n",
       "      <th>VAR3</th>\n",
       "      <th>VAR5</th>\n",
       "      <th>VAR6</th>\n",
       "      <th>VAR7</th>\n",
       "    </tr>\n",
       "  </thead>\n",
       "  <tbody>\n",
       "    <tr>\n",
       "      <th>0</th>\n",
       "      <td>EID_23371</td>\n",
       "      <td>0</td>\n",
       "      <td>4</td>\n",
       "      <td>0</td>\n",
       "      <td>1</td>\n",
       "      <td>2</td>\n",
       "      <td>2</td>\n",
       "      <td>4</td>\n",
       "      <td>33</td>\n",
       "      <td>1</td>\n",
       "      <td>1</td>\n",
       "      <td>2</td>\n",
       "      <td>4</td>\n",
       "      <td>23371</td>\n",
       "      <td>1.8688</td>\n",
       "      <td>4</td>\n",
       "      <td>5</td>\n",
       "      <td>3</td>\n",
       "    </tr>\n",
       "    <tr>\n",
       "      <th>1</th>\n",
       "      <td>EID_18000</td>\n",
       "      <td>1</td>\n",
       "      <td>3</td>\n",
       "      <td>1</td>\n",
       "      <td>3</td>\n",
       "      <td>3</td>\n",
       "      <td>0</td>\n",
       "      <td>4</td>\n",
       "      <td>36</td>\n",
       "      <td>0</td>\n",
       "      <td>3</td>\n",
       "      <td>2</td>\n",
       "      <td>3</td>\n",
       "      <td>18000</td>\n",
       "      <td>-0.4537</td>\n",
       "      <td>3</td>\n",
       "      <td>5</td>\n",
       "      <td>3</td>\n",
       "    </tr>\n",
       "    <tr>\n",
       "      <th>2</th>\n",
       "      <td>EID_3891</td>\n",
       "      <td>0</td>\n",
       "      <td>3</td>\n",
       "      <td>0</td>\n",
       "      <td>0</td>\n",
       "      <td>8</td>\n",
       "      <td>2</td>\n",
       "      <td>3</td>\n",
       "      <td>51</td>\n",
       "      <td>0</td>\n",
       "      <td>2</td>\n",
       "      <td>2</td>\n",
       "      <td>4</td>\n",
       "      <td>3891</td>\n",
       "      <td>-0.4537</td>\n",
       "      <td>3</td>\n",
       "      <td>8</td>\n",
       "      <td>3</td>\n",
       "    </tr>\n",
       "    <tr>\n",
       "      <th>3</th>\n",
       "      <td>EID_17492</td>\n",
       "      <td>0</td>\n",
       "      <td>3</td>\n",
       "      <td>1</td>\n",
       "      <td>2</td>\n",
       "      <td>1</td>\n",
       "      <td>1</td>\n",
       "      <td>3</td>\n",
       "      <td>56</td>\n",
       "      <td>1</td>\n",
       "      <td>3</td>\n",
       "      <td>2</td>\n",
       "      <td>3</td>\n",
       "      <td>17492</td>\n",
       "      <td>-0.4537</td>\n",
       "      <td>3</td>\n",
       "      <td>7</td>\n",
       "      <td>3</td>\n",
       "    </tr>\n",
       "    <tr>\n",
       "      <th>4</th>\n",
       "      <td>EID_22534</td>\n",
       "      <td>0</td>\n",
       "      <td>1</td>\n",
       "      <td>0</td>\n",
       "      <td>3</td>\n",
       "      <td>3</td>\n",
       "      <td>2</td>\n",
       "      <td>4</td>\n",
       "      <td>62</td>\n",
       "      <td>1</td>\n",
       "      <td>3</td>\n",
       "      <td>3</td>\n",
       "      <td>1</td>\n",
       "      <td>22534</td>\n",
       "      <td>-0.4537</td>\n",
       "      <td>2</td>\n",
       "      <td>8</td>\n",
       "      <td>2</td>\n",
       "    </tr>\n",
       "  </tbody>\n",
       "</table>\n",
       "</div>"
      ],
      "text/plain": [
       "  Employee_ID  Gender  Education_Level  Relationship_Status  Hometown  Unit  \\\n",
       "0   EID_23371       0                4                    0         1     2   \n",
       "1   EID_18000       1                3                    1         3     3   \n",
       "2    EID_3891       0                3                    0         0     8   \n",
       "3   EID_17492       0                3                    1         2     1   \n",
       "4   EID_22534       0                1                    0         3     3   \n",
       "\n",
       "   Decision_skill_possess  Time_since_promotion  growth_rate  Travel_Rate  \\\n",
       "0                       2                     4           33            1   \n",
       "1                       0                     4           36            0   \n",
       "2                       2                     3           51            0   \n",
       "3                       1                     3           56            1   \n",
       "4                       2                     4           62            1   \n",
       "\n",
       "   Post_Level  Compensation_and_Benefits  VAR1   VAR2    VAR3  VAR5  VAR6  \\\n",
       "0           1                          2     4  23371  1.8688     4     5   \n",
       "1           3                          2     3  18000 -0.4537     3     5   \n",
       "2           2                          2     4   3891 -0.4537     3     8   \n",
       "3           3                          2     3  17492 -0.4537     3     7   \n",
       "4           3                          3     1  22534 -0.4537     2     8   \n",
       "\n",
       "   VAR7  \n",
       "0     3  \n",
       "1     3  \n",
       "2     3  \n",
       "3     3  \n",
       "4     2  "
      ]
     },
     "execution_count": 12,
     "metadata": {},
     "output_type": "execute_result"
    }
   ],
   "source": [
    "data.head()"
   ]
  },
  {
   "cell_type": "code",
   "execution_count": 13,
   "metadata": {},
   "outputs": [],
   "source": [
    "# Standardised Dataset\n",
    "data.iloc[:,1:] = (data.iloc[:,1:]-data.iloc[:,1:].mean())/data.iloc[:,1:].std()"
   ]
  },
  {
   "cell_type": "code",
   "execution_count": 14,
   "metadata": {},
   "outputs": [
    {
     "data": {
      "text/html": [
       "<div>\n",
       "<style scoped>\n",
       "    .dataframe tbody tr th:only-of-type {\n",
       "        vertical-align: middle;\n",
       "    }\n",
       "\n",
       "    .dataframe tbody tr th {\n",
       "        vertical-align: top;\n",
       "    }\n",
       "\n",
       "    .dataframe thead th {\n",
       "        text-align: right;\n",
       "    }\n",
       "</style>\n",
       "<table border=\"1\" class=\"dataframe\">\n",
       "  <thead>\n",
       "    <tr style=\"text-align: right;\">\n",
       "      <th></th>\n",
       "      <th>Employee_ID</th>\n",
       "      <th>Gender</th>\n",
       "      <th>Education_Level</th>\n",
       "      <th>Relationship_Status</th>\n",
       "      <th>Hometown</th>\n",
       "      <th>Unit</th>\n",
       "      <th>Decision_skill_possess</th>\n",
       "      <th>Time_since_promotion</th>\n",
       "      <th>growth_rate</th>\n",
       "      <th>Travel_Rate</th>\n",
       "      <th>Post_Level</th>\n",
       "      <th>Compensation_and_Benefits</th>\n",
       "      <th>VAR1</th>\n",
       "      <th>VAR2</th>\n",
       "      <th>VAR3</th>\n",
       "      <th>VAR5</th>\n",
       "      <th>VAR6</th>\n",
       "      <th>VAR7</th>\n",
       "    </tr>\n",
       "  </thead>\n",
       "  <tbody>\n",
       "    <tr>\n",
       "      <th>0</th>\n",
       "      <td>EID_23371</td>\n",
       "      <td>-0.837500</td>\n",
       "      <td>0.762502</td>\n",
       "      <td>-0.740671</td>\n",
       "      <td>-1.006407</td>\n",
       "      <td>-0.872163</td>\n",
       "      <td>0.445880</td>\n",
       "      <td>1.420623</td>\n",
       "      <td>-0.892324</td>\n",
       "      <td>0.280996</td>\n",
       "      <td>-1.545044</td>\n",
       "      <td>-0.505523</td>\n",
       "      <td>1.077778</td>\n",
       "      <td>1.378503</td>\n",
       "      <td>1.907330</td>\n",
       "      <td>1.241667</td>\n",
       "      <td>-1.804822</td>\n",
       "      <td>-0.277742</td>\n",
       "    </tr>\n",
       "    <tr>\n",
       "      <th>1</th>\n",
       "      <td>EID_18000</td>\n",
       "      <td>1.193859</td>\n",
       "      <td>-0.176375</td>\n",
       "      <td>1.349933</td>\n",
       "      <td>0.692170</td>\n",
       "      <td>-0.574366</td>\n",
       "      <td>-1.341214</td>\n",
       "      <td>1.420623</td>\n",
       "      <td>-0.701986</td>\n",
       "      <td>-1.261726</td>\n",
       "      <td>0.173581</td>\n",
       "      <td>-0.505523</td>\n",
       "      <td>-0.117855</td>\n",
       "      <td>0.631953</td>\n",
       "      <td>-0.445921</td>\n",
       "      <td>0.176642</td>\n",
       "      <td>-1.804822</td>\n",
       "      <td>-0.277742</td>\n",
       "    </tr>\n",
       "    <tr>\n",
       "      <th>2</th>\n",
       "      <td>EID_3891</td>\n",
       "      <td>-0.837500</td>\n",
       "      <td>-0.176375</td>\n",
       "      <td>-0.740671</td>\n",
       "      <td>-1.855696</td>\n",
       "      <td>0.914620</td>\n",
       "      <td>0.445880</td>\n",
       "      <td>0.550600</td>\n",
       "      <td>0.249706</td>\n",
       "      <td>-1.261726</td>\n",
       "      <td>-0.685731</td>\n",
       "      <td>-0.505523</td>\n",
       "      <td>1.077778</td>\n",
       "      <td>-1.329149</td>\n",
       "      <td>-0.445921</td>\n",
       "      <td>0.176642</td>\n",
       "      <td>0.771917</td>\n",
       "      <td>-0.277742</td>\n",
       "    </tr>\n",
       "    <tr>\n",
       "      <th>3</th>\n",
       "      <td>EID_17492</td>\n",
       "      <td>-0.837500</td>\n",
       "      <td>-0.176375</td>\n",
       "      <td>1.349933</td>\n",
       "      <td>-0.157118</td>\n",
       "      <td>-1.169960</td>\n",
       "      <td>-0.447667</td>\n",
       "      <td>0.550600</td>\n",
       "      <td>0.566936</td>\n",
       "      <td>0.280996</td>\n",
       "      <td>0.173581</td>\n",
       "      <td>-0.505523</td>\n",
       "      <td>-0.117855</td>\n",
       "      <td>0.561343</td>\n",
       "      <td>-0.445921</td>\n",
       "      <td>0.176642</td>\n",
       "      <td>-0.086996</td>\n",
       "      <td>-0.277742</td>\n",
       "    </tr>\n",
       "    <tr>\n",
       "      <th>4</th>\n",
       "      <td>EID_22534</td>\n",
       "      <td>-0.837500</td>\n",
       "      <td>-2.054128</td>\n",
       "      <td>-0.740671</td>\n",
       "      <td>0.692170</td>\n",
       "      <td>-0.574366</td>\n",
       "      <td>0.445880</td>\n",
       "      <td>1.420623</td>\n",
       "      <td>0.947613</td>\n",
       "      <td>0.280996</td>\n",
       "      <td>0.173581</td>\n",
       "      <td>0.865520</td>\n",
       "      <td>-2.509121</td>\n",
       "      <td>1.262163</td>\n",
       "      <td>-0.445921</td>\n",
       "      <td>-0.888383</td>\n",
       "      <td>0.771917</td>\n",
       "      <td>-1.358450</td>\n",
       "    </tr>\n",
       "  </tbody>\n",
       "</table>\n",
       "</div>"
      ],
      "text/plain": [
       "  Employee_ID    Gender  Education_Level  Relationship_Status  Hometown  \\\n",
       "0   EID_23371 -0.837500         0.762502            -0.740671 -1.006407   \n",
       "1   EID_18000  1.193859        -0.176375             1.349933  0.692170   \n",
       "2    EID_3891 -0.837500        -0.176375            -0.740671 -1.855696   \n",
       "3   EID_17492 -0.837500        -0.176375             1.349933 -0.157118   \n",
       "4   EID_22534 -0.837500        -2.054128            -0.740671  0.692170   \n",
       "\n",
       "       Unit  Decision_skill_possess  Time_since_promotion  growth_rate  \\\n",
       "0 -0.872163                0.445880              1.420623    -0.892324   \n",
       "1 -0.574366               -1.341214              1.420623    -0.701986   \n",
       "2  0.914620                0.445880              0.550600     0.249706   \n",
       "3 -1.169960               -0.447667              0.550600     0.566936   \n",
       "4 -0.574366                0.445880              1.420623     0.947613   \n",
       "\n",
       "   Travel_Rate  Post_Level  Compensation_and_Benefits      VAR1      VAR2  \\\n",
       "0     0.280996   -1.545044                  -0.505523  1.077778  1.378503   \n",
       "1    -1.261726    0.173581                  -0.505523 -0.117855  0.631953   \n",
       "2    -1.261726   -0.685731                  -0.505523  1.077778 -1.329149   \n",
       "3     0.280996    0.173581                  -0.505523 -0.117855  0.561343   \n",
       "4     0.280996    0.173581                   0.865520 -2.509121  1.262163   \n",
       "\n",
       "       VAR3      VAR5      VAR6      VAR7  \n",
       "0  1.907330  1.241667 -1.804822 -0.277742  \n",
       "1 -0.445921  0.176642 -1.804822 -0.277742  \n",
       "2 -0.445921  0.176642  0.771917 -0.277742  \n",
       "3 -0.445921  0.176642 -0.086996 -0.277742  \n",
       "4 -0.445921 -0.888383  0.771917 -1.358450  "
      ]
     },
     "execution_count": 14,
     "metadata": {},
     "output_type": "execute_result"
    }
   ],
   "source": [
    "data.head()"
   ]
  },
  {
   "cell_type": "code",
   "execution_count": 17,
   "metadata": {},
   "outputs": [],
   "source": [
    "train_x, test_x , train_y, test_y = train_test_split(data,y,test_size= 0.20, random_state=70)"
   ]
  },
  {
   "cell_type": "code",
   "execution_count": 18,
   "metadata": {},
   "outputs": [],
   "source": [
    "lr = LinearRegression()"
   ]
  },
  {
   "cell_type": "code",
   "execution_count": 20,
   "metadata": {},
   "outputs": [
    {
     "data": {
      "text/plain": [
       "LinearRegression(copy_X=True, fit_intercept=True, n_jobs=None, normalize=False)"
      ]
     },
     "execution_count": 20,
     "metadata": {},
     "output_type": "execute_result"
    }
   ],
   "source": [
    "lr.fit(train_x.iloc[:,1:],train_y)"
   ]
  },
  {
   "cell_type": "code",
   "execution_count": 41,
   "metadata": {},
   "outputs": [
    {
     "data": {
      "text/plain": [
       "array([ 6.22364414e-03, -2.28989998e-03,  2.76190292e-03,  1.32792488e-03,\n",
       "        4.34771393e-03,  2.65141268e-03,  6.93733842e-04,  3.11320806e-03,\n",
       "       -1.13611602e-03,  1.92431377e-03, -4.60529132e-03, -1.56800773e-03,\n",
       "        4.48037056e-04,  7.34534140e-05, -4.16697889e-03,  7.50030939e-05,\n",
       "       -3.94678003e-03])"
      ]
     },
     "execution_count": 41,
     "metadata": {},
     "output_type": "execute_result"
    }
   ],
   "source": [
    "lr.coef_"
   ]
  },
  {
   "cell_type": "code",
   "execution_count": 21,
   "metadata": {},
   "outputs": [],
   "source": [
    "pred = lr.predict(test_x.iloc[:,1:])"
   ]
  },
  {
   "cell_type": "code",
   "execution_count": 1,
   "metadata": {},
   "outputs": [],
   "source": [
    "from sklearn.metrics import mean_squared_error\n",
    "\n",
    "import numpy as np"
   ]
  },
  {
   "cell_type": "code",
   "execution_count": 29,
   "metadata": {},
   "outputs": [],
   "source": [
    "pred = np.round(pred,4)"
   ]
  },
  {
   "cell_type": "code",
   "execution_count": 31,
   "metadata": {},
   "outputs": [
    {
     "data": {
      "text/plain": [
       "array([0.2002, 0.199 , 0.1683, 0.1789, 0.1733])"
      ]
     },
     "execution_count": 31,
     "metadata": {},
     "output_type": "execute_result"
    }
   ],
   "source": [
    "pred[:5]"
   ]
  },
  {
   "cell_type": "code",
   "execution_count": 33,
   "metadata": {},
   "outputs": [],
   "source": [
    "test= pd.read_csv('Dataset/cleaned_test_file.csv')"
   ]
  },
  {
   "cell_type": "code",
   "execution_count": 34,
   "metadata": {},
   "outputs": [],
   "source": [
    "# Standardise test dataset\n",
    "test.iloc[:,1:]= (test.iloc[:,1:]-test.iloc[:,1:].mean())/test.iloc[:,1:].std()"
   ]
  },
  {
   "cell_type": "code",
   "execution_count": 35,
   "metadata": {},
   "outputs": [],
   "source": [
    "test_pred = lr.predict(test.iloc[:,1:])"
   ]
  },
  {
   "cell_type": "code",
   "execution_count": 36,
   "metadata": {},
   "outputs": [],
   "source": [
    "test_pred = np.round(test_pred,4)"
   ]
  },
  {
   "cell_type": "code",
   "execution_count": 37,
   "metadata": {},
   "outputs": [],
   "source": [
    "new_df = pd.DataFrame()"
   ]
  },
  {
   "cell_type": "code",
   "execution_count": 38,
   "metadata": {},
   "outputs": [],
   "source": [
    "new_df['Employee_ID']= test['Employee_ID']\n",
    "new_df['Attrition_rate'] = test_pred"
   ]
  },
  {
   "cell_type": "code",
   "execution_count": 39,
   "metadata": {},
   "outputs": [
    {
     "data": {
      "text/html": [
       "<div>\n",
       "<style scoped>\n",
       "    .dataframe tbody tr th:only-of-type {\n",
       "        vertical-align: middle;\n",
       "    }\n",
       "\n",
       "    .dataframe tbody tr th {\n",
       "        vertical-align: top;\n",
       "    }\n",
       "\n",
       "    .dataframe thead th {\n",
       "        text-align: right;\n",
       "    }\n",
       "</style>\n",
       "<table border=\"1\" class=\"dataframe\">\n",
       "  <thead>\n",
       "    <tr style=\"text-align: right;\">\n",
       "      <th></th>\n",
       "      <th>Employee_ID</th>\n",
       "      <th>Attrition_rate</th>\n",
       "    </tr>\n",
       "  </thead>\n",
       "  <tbody>\n",
       "    <tr>\n",
       "      <th>0</th>\n",
       "      <td>EID_22713</td>\n",
       "      <td>0.1978</td>\n",
       "    </tr>\n",
       "    <tr>\n",
       "      <th>1</th>\n",
       "      <td>EID_9658</td>\n",
       "      <td>0.2112</td>\n",
       "    </tr>\n",
       "    <tr>\n",
       "      <th>2</th>\n",
       "      <td>EID_22203</td>\n",
       "      <td>0.2026</td>\n",
       "    </tr>\n",
       "    <tr>\n",
       "      <th>3</th>\n",
       "      <td>EID_7652</td>\n",
       "      <td>0.2051</td>\n",
       "    </tr>\n",
       "    <tr>\n",
       "      <th>4</th>\n",
       "      <td>EID_6516</td>\n",
       "      <td>0.1868</td>\n",
       "    </tr>\n",
       "  </tbody>\n",
       "</table>\n",
       "</div>"
      ],
      "text/plain": [
       "  Employee_ID  Attrition_rate\n",
       "0   EID_22713          0.1978\n",
       "1    EID_9658          0.2112\n",
       "2   EID_22203          0.2026\n",
       "3    EID_7652          0.2051\n",
       "4    EID_6516          0.1868"
      ]
     },
     "execution_count": 39,
     "metadata": {},
     "output_type": "execute_result"
    }
   ],
   "source": [
    "new_df.head()"
   ]
  },
  {
   "cell_type": "code",
   "execution_count": 40,
   "metadata": {},
   "outputs": [],
   "source": [
    "new_df.to_csv('Submission_file1.csv',index=False)"
   ]
  },
  {
   "cell_type": "code",
   "execution_count": null,
   "metadata": {},
   "outputs": [],
   "source": []
  }
 ],
 "metadata": {
  "kernelspec": {
   "display_name": "Python 3",
   "language": "python",
   "name": "python3"
  },
  "language_info": {
   "codemirror_mode": {
    "name": "ipython",
    "version": 3
   },
   "file_extension": ".py",
   "mimetype": "text/x-python",
   "name": "python",
   "nbconvert_exporter": "python",
   "pygments_lexer": "ipython3",
   "version": "3.7.4"
  }
 },
 "nbformat": 4,
 "nbformat_minor": 2
}
